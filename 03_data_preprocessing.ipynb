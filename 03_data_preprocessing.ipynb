{
 "cells": [
  {
   "cell_type": "markdown",
   "metadata": {},
   "source": [
    "# Data Preprocessing: 2018-2020\n",
    "\n",
    "Shayna Howitt\n",
    "\n",
    "May 20, 2020\n",
    "\n",
    "## Background\n",
    "\n",
    "The below data was pulled by Grassroots Economics from their community currency program. The raw data can be found [here](https://www.grassrootseconomics.org/research). More information about how the datasets were created can be found [here](https://github.com/GrassrootsEconomics/CIC-Docs/blob/master/TransactionDatasets.md).\n",
    "\n",
    "The first dataset is from 9/26/2018 to 1/1/2020. The second dataset is from 1/1/2020 to 5/11/2020. \n",
    "\n",
    "## Purpose\n",
    "\n",
    "This notebook will determine how to most effectively combine the two (considering some data storage has changed), and then export a complete  file of all transactions. \n",
    "\n",
    "## Conclusions  \n",
    " \n",
    "**New Data**\n",
    "- In 2020, GE began storing the token name and transfer subtype for the first time. This gives us transparency into the purpose of the transfer, which we did not have before.\n",
    "\n",
    "**Sources**\n",
    "- It does not appear that any of the sources from 2018-2019 appear in the 2020 documents. Unknown why this is; requires future research. \n",
    "\n",
    "**Free Text**\n",
    "- It appears there were more free text options released in 2020, as there were new variations of how to spell and write gender and locations. Many more locations appeared. There were just a few changes to business types. "
   ]
  },
  {
   "cell_type": "code",
   "execution_count": 1,
   "metadata": {},
   "outputs": [],
   "source": [
    "import numpy as np\n",
    "import pandas as pd"
   ]
  },
  {
   "cell_type": "code",
   "execution_count": 2,
   "metadata": {},
   "outputs": [],
   "source": [
    "transactions_1819 = pd.read_csv('POA_tx_all_pub.csv')\n",
    "transactions_20 = pd.read_csv('2020_transactions.csv')"
   ]
  },
  {
   "cell_type": "markdown",
   "metadata": {},
   "source": [
    "# 1. Data Formatting"
   ]
  },
  {
   "cell_type": "markdown",
   "metadata": {},
   "source": [
    "## 1a. Column Names"
   ]
  },
  {
   "cell_type": "markdown",
   "metadata": {},
   "source": [
    "**Did data names change?**\n",
    "\n",
    "Yes, the name of the location columns changed. \n",
    "\n",
    "New columns: \n",
    "- token address: blockchain address\n",
    "- token name: Sarafu or Kenyan Shilling\n",
    "- transfer subtype: \n",
    "   - DISBURSMENT = from Grassroots Economics\n",
    "   - RECLEMATION = Back to GE\n",
    "   - STANDARD = a trade between users\n",
    "   - AGENT = when a group account is cashing out"
   ]
  },
  {
   "cell_type": "code",
   "execution_count": 3,
   "metadata": {},
   "outputs": [
    {
     "data": {
      "text/plain": [
       "{'s_comm_tkn',\n",
       " 's_location',\n",
       " 't_comm_tkn',\n",
       " 't_location',\n",
       " 'token_address',\n",
       " 'token_name',\n",
       " 'transfer_subtype',\n",
       " 'tx_hash'}"
      ]
     },
     "execution_count": 3,
     "metadata": {},
     "output_type": "execute_result"
    }
   ],
   "source": [
    "set(transactions_20.columns) ^ set(transactions_1819.columns)"
   ]
  },
  {
   "cell_type": "code",
   "execution_count": 4,
   "metadata": {},
   "outputs": [],
   "source": [
    "new_location_cols = {\n",
    "    's_comm_tkn': 's_location', \n",
    "    't_comm_tkn': 't_location'\n",
    "}\n",
    "transactions_1819.rename(columns=new_location_cols, inplace=True)"
   ]
  },
  {
   "cell_type": "markdown",
   "metadata": {},
   "source": [
    "## 1b. Timeset"
   ]
  },
  {
   "cell_type": "code",
   "execution_count": 5,
   "metadata": {},
   "outputs": [],
   "source": [
    "def transform_dates(date_str):\n",
    "    _datetime_temp = pd.to_datetime(date_str)\n",
    "    return _datetime_temp.date()"
   ]
  },
  {
   "cell_type": "code",
   "execution_count": 6,
   "metadata": {},
   "outputs": [],
   "source": [
    "transactions_1819 = transactions_1819.assign(\n",
    "    date=transactions_1819['timeset'].apply(transform_dates)\n",
    ")\n",
    "\n",
    "transactions_20 = transactions_20.assign(\n",
    "    date=transactions_20['timeset'].apply(transform_dates)\n",
    ")"
   ]
  },
  {
   "cell_type": "markdown",
   "metadata": {},
   "source": [
    "## 1c. Sources"
   ]
  },
  {
   "cell_type": "code",
   "execution_count": 7,
   "metadata": {},
   "outputs": [
    {
     "name": "stdout",
     "output_type": "stream",
     "text": [
      "18-19: 8325\n",
      "20: 18493\n"
     ]
    }
   ],
   "source": [
    "print('18-19:', len(transactions_1819['source'].unique()))\n",
    "print('20:', len(transactions_20['source'].unique()))"
   ]
  },
  {
   "cell_type": "code",
   "execution_count": 8,
   "metadata": {},
   "outputs": [
    {
     "name": "stdout",
     "output_type": "stream",
     "text": [
      "source in both: 0\n"
     ]
    }
   ],
   "source": [
    "shared_source = set(transactions_1819['source']) & (set(transactions_20['source']))\n",
    "print(f'source in both: {len(shared_source)}')"
   ]
  },
  {
   "cell_type": "markdown",
   "metadata": {},
   "source": [
    "*Both sources have 42 characters.*"
   ]
  },
  {
   "cell_type": "code",
   "execution_count": 9,
   "metadata": {},
   "outputs": [
    {
     "data": {
      "text/plain": [
       "42    147815\n",
       "Name: source, dtype: int64"
      ]
     },
     "metadata": {},
     "output_type": "display_data"
    },
    {
     "data": {
      "text/plain": [
       "42    103691\n",
       "Name: source, dtype: int64"
      ]
     },
     "metadata": {},
     "output_type": "display_data"
    }
   ],
   "source": [
    "display(transactions_20['source'].apply(len).value_counts())\n",
    "display(transactions_1819['source'].apply(len).value_counts())"
   ]
  },
  {
   "cell_type": "markdown",
   "metadata": {},
   "source": [
    "*Doesn't share any sources even with all capitals*"
   ]
  },
  {
   "cell_type": "code",
   "execution_count": 10,
   "metadata": {},
   "outputs": [
    {
     "data": {
      "text/plain": [
       "0"
      ]
     },
     "execution_count": 10,
     "metadata": {},
     "output_type": "execute_result"
    }
   ],
   "source": [
    "shared_uppercase_source = set(transactions_1819['source'].apply(\n",
    "    lambda x: x.upper())) & set(transactions_20['source'].apply(lambda x: x.upper()))\n",
    "len(shared_uppercase_source)"
   ]
  },
  {
   "cell_type": "markdown",
   "metadata": {},
   "source": [
    "*Are there no sources that carry over? They potentially changed how source ids are stored in 2020*"
   ]
  },
  {
   "cell_type": "markdown",
   "metadata": {},
   "source": [
    "## 1d. Gender"
   ]
  },
  {
   "cell_type": "code",
   "execution_count": 11,
   "metadata": {},
   "outputs": [
    {
     "data": {
      "text/plain": [
       "array([nan, 'male', 'female', 'Male', 'Female', 'other', 'Unknown gender',\n",
       "       'Other', 'Male '], dtype=object)"
      ]
     },
     "metadata": {},
     "output_type": "display_data"
    }
   ],
   "source": [
    "display(transactions_20['s_gender'].unique())"
   ]
  },
  {
   "cell_type": "code",
   "execution_count": 12,
   "metadata": {},
   "outputs": [
    {
     "data": {
      "text/plain": [
       "array(['Male', nan, 'Female', 'Other'], dtype=object)"
      ]
     },
     "metadata": {},
     "output_type": "display_data"
    }
   ],
   "source": [
    "display(transactions_1819['s_gender'].unique())"
   ]
  },
  {
   "cell_type": "code",
   "execution_count": 13,
   "metadata": {},
   "outputs": [],
   "source": [
    "gender_col_mapping = {\n",
    "    'female': 'Female',\n",
    "    'male': 'Male', \n",
    "    'Male ': 'Male', \n",
    "    'other': 'Other', \n",
    "    'Unknown gender': np.NaN\n",
    "}"
   ]
  },
  {
   "cell_type": "code",
   "execution_count": 14,
   "metadata": {},
   "outputs": [],
   "source": [
    "transactions_20['s_gender'].replace(gender_col_mapping, inplace=True)\n",
    "transactions_20['t_gender'].replace(gender_col_mapping, inplace=True)"
   ]
  },
  {
   "cell_type": "markdown",
   "metadata": {},
   "source": [
    "## 1e. Location"
   ]
  },
  {
   "cell_type": "code",
   "execution_count": 15,
   "metadata": {},
   "outputs": [],
   "source": [
    "locations = set(transactions_1819['t_location'].dropna().unique())"
   ]
  },
  {
   "cell_type": "code",
   "execution_count": 16,
   "metadata": {},
   "outputs": [],
   "source": [
    "transactions_20['t_location'] = transactions_20['t_location'].fillna('NONE')\n",
    "transactions_20['S_location'] = transactions_20['t_location'].fillna('NONE')"
   ]
  },
  {
   "cell_type": "code",
   "execution_count": 17,
   "metadata": {},
   "outputs": [],
   "source": [
    "def return_formatted_location_match(input_location_str):\n",
    "    if input_location_str == 'NONE':\n",
    "        return np.NaN\n",
    "    elif input_location_str in locations:\n",
    "        return input_location_str \n",
    "    else:\n",
    "        for loc in locations:\n",
    "            if loc in input_location_str:\n",
    "                return loc\n",
    "        return input_location_str\n",
    "            "
   ]
  },
  {
   "cell_type": "code",
   "execution_count": 18,
   "metadata": {},
   "outputs": [],
   "source": [
    "transactions_20['t_location'] = transactions_20['t_location'].str.upper().str.strip().apply(return_formatted_location_match)\n",
    "transactions_20['s_location'] = transactions_20['s_location'].str.upper().str.strip().apply(return_formatted_location_match)"
   ]
  },
  {
   "cell_type": "markdown",
   "metadata": {},
   "source": [
    "## 1f. Business Types"
   ]
  },
  {
   "cell_type": "code",
   "execution_count": 19,
   "metadata": {},
   "outputs": [],
   "source": [
    "business_type_col_mapping = {\n",
    "    'Food': 'Food/Water', \n",
    "    'Labour': 'Farming/Labour', \n",
    "    np.NaN: 'None',\n",
    "    'General shop': 'Shop', \n",
    "    'Energy': 'Fuel/Energy', \n",
    "    'Water': 'Food/Water'\n",
    "}"
   ]
  },
  {
   "cell_type": "code",
   "execution_count": 20,
   "metadata": {},
   "outputs": [],
   "source": [
    "transactions_1819['s_business_type'].replace(business_type_col_mapping, inplace=True)\n",
    "transactions_1819['t_business_type'].replace(business_type_col_mapping, inplace=True)"
   ]
  },
  {
   "cell_type": "markdown",
   "metadata": {},
   "source": [
    "# 2. Combine and save all data"
   ]
  },
  {
   "cell_type": "code",
   "execution_count": 21,
   "metadata": {},
   "outputs": [],
   "source": [
    "use_cols = ['id', 'date', 'source', 's_location', 's_gender', 's_business_type',\n",
    "       'target', 't_location', 't_gender', 't_business_type', 'tx_token',\n",
    "       'weight', 'tx_hash', 'type']"
   ]
  },
  {
   "cell_type": "code",
   "execution_count": 22,
   "metadata": {},
   "outputs": [
    {
     "data": {
      "text/html": [
       "<div>\n",
       "<style scoped>\n",
       "    .dataframe tbody tr th:only-of-type {\n",
       "        vertical-align: middle;\n",
       "    }\n",
       "\n",
       "    .dataframe tbody tr th {\n",
       "        vertical-align: top;\n",
       "    }\n",
       "\n",
       "    .dataframe thead th {\n",
       "        text-align: right;\n",
       "    }\n",
       "</style>\n",
       "<table border=\"1\" class=\"dataframe\">\n",
       "  <thead>\n",
       "    <tr style=\"text-align: right;\">\n",
       "      <th></th>\n",
       "      <th>id</th>\n",
       "      <th>date</th>\n",
       "      <th>source</th>\n",
       "      <th>s_location</th>\n",
       "      <th>s_gender</th>\n",
       "      <th>s_business_type</th>\n",
       "      <th>target</th>\n",
       "      <th>t_location</th>\n",
       "      <th>t_gender</th>\n",
       "      <th>t_business_type</th>\n",
       "      <th>tx_token</th>\n",
       "      <th>weight</th>\n",
       "      <th>tx_hash</th>\n",
       "      <th>type</th>\n",
       "    </tr>\n",
       "  </thead>\n",
       "  <tbody>\n",
       "    <tr>\n",
       "      <th>0</th>\n",
       "      <td>1</td>\n",
       "      <td>2018-09-26</td>\n",
       "      <td>0x3cc06c32c88aba379c4bbd4c9ebda585d7574bbf</td>\n",
       "      <td>LINDI</td>\n",
       "      <td>Male</td>\n",
       "      <td>Other</td>\n",
       "      <td>0xa54b77e28e8954c8c89d234c262a71125cb98da8</td>\n",
       "      <td>NaN</td>\n",
       "      <td>NaN</td>\n",
       "      <td>None</td>\n",
       "      <td>GATINA</td>\n",
       "      <td>100.0</td>\n",
       "      <td>0x880d3b999efe44299f96678ec2a3758c168ed4a61b6b...</td>\n",
       "      <td>directed</td>\n",
       "    </tr>\n",
       "    <tr>\n",
       "      <th>1</th>\n",
       "      <td>2</td>\n",
       "      <td>2018-09-26</td>\n",
       "      <td>0x23c848671adf998025cd1d2247fea93f922b6d31</td>\n",
       "      <td>CONGO</td>\n",
       "      <td>Male</td>\n",
       "      <td>Food/Water</td>\n",
       "      <td>0x3cc06c32c88aba379c4bbd4c9ebda585d7574bbf</td>\n",
       "      <td>LINDI</td>\n",
       "      <td>Male</td>\n",
       "      <td>Other</td>\n",
       "      <td>GATINA</td>\n",
       "      <td>2.0</td>\n",
       "      <td>0x4893bc5024d1ef291f95318c86600e26b9054a273f5e...</td>\n",
       "      <td>directed</td>\n",
       "    </tr>\n",
       "    <tr>\n",
       "      <th>2</th>\n",
       "      <td>3</td>\n",
       "      <td>2018-09-26</td>\n",
       "      <td>0x3cc06c32c88aba379c4bbd4c9ebda585d7574bbf</td>\n",
       "      <td>LINDI</td>\n",
       "      <td>Male</td>\n",
       "      <td>Other</td>\n",
       "      <td>0x23c848671adf998025cd1d2247fea93f922b6d31</td>\n",
       "      <td>CONGO</td>\n",
       "      <td>Male</td>\n",
       "      <td>Food/Water</td>\n",
       "      <td>GATINA</td>\n",
       "      <td>20.0</td>\n",
       "      <td>0xf901ff660b432c7d3049edbfd07a26ace9264eae07e3...</td>\n",
       "      <td>directed</td>\n",
       "    </tr>\n",
       "    <tr>\n",
       "      <th>3</th>\n",
       "      <td>4</td>\n",
       "      <td>2018-09-26</td>\n",
       "      <td>0x3cc06c32c88aba379c4bbd4c9ebda585d7574bbf</td>\n",
       "      <td>LINDI</td>\n",
       "      <td>Male</td>\n",
       "      <td>Other</td>\n",
       "      <td>0xb7b1a85fed492df4a67f34a723408fc5f694f96b</td>\n",
       "      <td>NaN</td>\n",
       "      <td>NaN</td>\n",
       "      <td>None</td>\n",
       "      <td>GEP</td>\n",
       "      <td>20.0</td>\n",
       "      <td>0x2fc386334d728fadd0d62522c9f52124b0b44fb08181...</td>\n",
       "      <td>directed</td>\n",
       "    </tr>\n",
       "    <tr>\n",
       "      <th>4</th>\n",
       "      <td>5</td>\n",
       "      <td>2018-09-26</td>\n",
       "      <td>0x23c848671adf998025cd1d2247fea93f922b6d31</td>\n",
       "      <td>CONGO</td>\n",
       "      <td>Male</td>\n",
       "      <td>Food/Water</td>\n",
       "      <td>0x3cc06c32c88aba379c4bbd4c9ebda585d7574bbf</td>\n",
       "      <td>LINDI</td>\n",
       "      <td>Male</td>\n",
       "      <td>Other</td>\n",
       "      <td>GEP</td>\n",
       "      <td>2.0</td>\n",
       "      <td>0x2141aa9cd1fb6679f0dc2cfee3bd4c69137e96b50809...</td>\n",
       "      <td>directed</td>\n",
       "    </tr>\n",
       "  </tbody>\n",
       "</table>\n",
       "</div>"
      ],
      "text/plain": [
       "   id        date                                      source s_location  \\\n",
       "0   1  2018-09-26  0x3cc06c32c88aba379c4bbd4c9ebda585d7574bbf      LINDI   \n",
       "1   2  2018-09-26  0x23c848671adf998025cd1d2247fea93f922b6d31      CONGO   \n",
       "2   3  2018-09-26  0x3cc06c32c88aba379c4bbd4c9ebda585d7574bbf      LINDI   \n",
       "3   4  2018-09-26  0x3cc06c32c88aba379c4bbd4c9ebda585d7574bbf      LINDI   \n",
       "4   5  2018-09-26  0x23c848671adf998025cd1d2247fea93f922b6d31      CONGO   \n",
       "\n",
       "  s_gender s_business_type                                      target  \\\n",
       "0     Male           Other  0xa54b77e28e8954c8c89d234c262a71125cb98da8   \n",
       "1     Male      Food/Water  0x3cc06c32c88aba379c4bbd4c9ebda585d7574bbf   \n",
       "2     Male           Other  0x23c848671adf998025cd1d2247fea93f922b6d31   \n",
       "3     Male           Other  0xb7b1a85fed492df4a67f34a723408fc5f694f96b   \n",
       "4     Male      Food/Water  0x3cc06c32c88aba379c4bbd4c9ebda585d7574bbf   \n",
       "\n",
       "  t_location t_gender t_business_type tx_token  weight  \\\n",
       "0        NaN      NaN            None   GATINA   100.0   \n",
       "1      LINDI     Male           Other   GATINA     2.0   \n",
       "2      CONGO     Male      Food/Water   GATINA    20.0   \n",
       "3        NaN      NaN            None      GEP    20.0   \n",
       "4      LINDI     Male           Other      GEP     2.0   \n",
       "\n",
       "                                             tx_hash      type  \n",
       "0  0x880d3b999efe44299f96678ec2a3758c168ed4a61b6b...  directed  \n",
       "1  0x4893bc5024d1ef291f95318c86600e26b9054a273f5e...  directed  \n",
       "2  0xf901ff660b432c7d3049edbfd07a26ace9264eae07e3...  directed  \n",
       "3  0x2fc386334d728fadd0d62522c9f52124b0b44fb08181...  directed  \n",
       "4  0x2141aa9cd1fb6679f0dc2cfee3bd4c69137e96b50809...  directed  "
      ]
     },
     "execution_count": 22,
     "metadata": {},
     "output_type": "execute_result"
    }
   ],
   "source": [
    "all_transactions = pd.concat([transactions_1819, transactions_20])\n",
    "all_transactions = all_transactions[use_cols]\n",
    "all_transactions.head()"
   ]
  },
  {
   "cell_type": "code",
   "execution_count": 23,
   "metadata": {},
   "outputs": [],
   "source": [
    "all_transactions.to_csv('all_transactions.csv',\n",
    "                       index=False)"
   ]
  }
 ],
 "metadata": {
  "kernelspec": {
   "display_name": "Python 3",
   "language": "python",
   "name": "python3"
  },
  "language_info": {
   "codemirror_mode": {
    "name": "ipython",
    "version": 3
   },
   "file_extension": ".py",
   "mimetype": "text/x-python",
   "name": "python",
   "nbconvert_exporter": "python",
   "pygments_lexer": "ipython3",
   "version": "3.7.7"
  }
 },
 "nbformat": 4,
 "nbformat_minor": 4
}
